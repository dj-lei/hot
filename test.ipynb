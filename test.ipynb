{
 "cells": [
  {
   "cell_type": "code",
   "execution_count": null,
   "metadata": {},
   "outputs": [],
   "source": [
    "import tensorflow as tf\n",
    "import numpy as np\n",
    "import pandas as pd\n",
    "import os\n",
    "\n",
    "num_epochs = 1000\n",
    "batch_size = 32\n",
    "learning_rate = 0.01"
   ]
  },
  {
   "cell_type": "code",
   "execution_count": null,
   "metadata": {},
   "outputs": [],
   "source": [
    "def _decode_and_resize(filename, label):\n",
    "    image_string = tf.io.read_file(filename)            # 读取原始文件\n",
    "    image_decoded = tf.image.decode_jpeg(image_string)  # 解码JPEG图片\n",
    "    image_resized = tf.image.resize(image_decoded, [224, 224]) / 255.0\n",
    "    return image_resized, label\n",
    "\n",
    "data_text = pd.read_csv('train_data.csv')\n",
    "# 构建训练数据集\n",
    "train_filenames = tf.constant([filename for filename in list(data_text.path.values)])\n",
    "train_labels = list(data_text.page_num.values)\n",
    "\n",
    "train_dataset = tf.data.Dataset.from_tensor_slices((train_filenames, train_labels))\n",
    "train_dataset = train_dataset.map(\n",
    "    map_func=_decode_and_resize, \n",
    "    num_parallel_calls=tf.data.experimental.AUTOTUNE)\n",
    "# 取出前buffer_size个数据放入buffer，并从其中随机采样，采样后的数据用后续数据替换\n",
    "train_dataset = train_dataset.shuffle(buffer_size=500)\n",
    "train_dataset = train_dataset.batch(batch_size)\n",
    "train_dataset = train_dataset.prefetch(tf.data.experimental.AUTOTUNE)"
   ]
  },
  {
   "cell_type": "code",
   "execution_count": null,
   "metadata": {},
   "outputs": [],
   "source": [
    "resnet50_fine_tune = tf.keras.models.Sequential()\n",
    "\n",
    "resnet50_fine_tune.add(tf.keras.applications.ResNet50(include_top = False, pooling = 'avg', weights = 'imagenet'))\n",
    "resnet50_fine_tune.add(tf.keras.layers.Dense(48, activation = 'softmax'))\n",
    "resnet50_fine_tune.layers[0].trainable = False\n",
    "# resnet50_fine_tune.compile(loss=\"sparse_categorical_crossentropy\", optimizer=\"sgd\", metrics=['accuracy'])\n",
    "resnet50_fine_tune.compile(\n",
    "    optimizer=tf.keras.optimizers.Adam(learning_rate=learning_rate),\n",
    "    loss=tf.keras.losses.sparse_categorical_crossentropy,\n",
    "    metrics=[tf.keras.metrics.sparse_categorical_accuracy]\n",
    ")\n",
    "resnet50_fine_tune.summary()"
   ]
  },
  {
   "cell_type": "code",
   "execution_count": null,
   "metadata": {
    "scrolled": true
   },
   "outputs": [],
   "source": [
    "resnet50_fine_tune.fit(train_dataset, epochs=num_epochs)"
   ]
  },
  {
   "cell_type": "code",
   "execution_count": 1,
   "metadata": {},
   "outputs": [],
   "source": [
    "import torch\n",
    "import torch.nn as nn\n",
    "from torch.autograd import Variable\n",
    "from torchvision import models\n",
    "from torchvision.models.resnet import Bottleneck, BasicBlock, ResNet\n",
    "import torch.utils.model_zoo as model_zoo\n",
    "\n",
    "import numpy as np\n",
    "import cv2\n",
    "import pandas as pd\n",
    "\n",
    "from model.model import *"
   ]
  },
  {
   "cell_type": "code",
   "execution_count": 2,
   "metadata": {},
   "outputs": [],
   "source": [
    "image_net = ResidualNet()\n",
    "image_net.eval()\n",
    "image_net = image_net.cuda()"
   ]
  },
  {
   "cell_type": "code",
   "execution_count": 3,
   "metadata": {},
   "outputs": [],
   "source": [
    "text_net = RoBertaChinese()"
   ]
  },
  {
   "cell_type": "code",
   "execution_count": 31,
   "metadata": {},
   "outputs": [],
   "source": [
    "with torch.no_grad():\n",
    "    best_seller = pd.read_csv('best_seller.csv')\n",
    "    image_vectors = []\n",
    "    text_vectors = []\n",
    "    for i in range(0, len(best_seller)):\n",
    "        image_path = 'data/best_seller/'+best_seller['id'][i]+'.jpg'\n",
    "        image_space_vector = get_image_space_vector(image_path, image_net, 'avg')\n",
    "        text_space_vector = get_text_space_vector(best_seller['title'][i], text_net.tokenizer, text_net.model).tolist()\n",
    "        image_vectors.append(image_space_vector)\n",
    "        text_vectors.append(text_space_vector)\n",
    "    best_seller['image_vectors'] = pd.Series(image_vectors)\n",
    "    best_seller['text_vectors'] = pd.Series(text_vectors)"
   ]
  },
  {
   "cell_type": "code",
   "execution_count": 32,
   "metadata": {
    "scrolled": true
   },
   "outputs": [],
   "source": [
    "with torch.no_grad():\n",
    "    source_goods = pd.read_csv('source_goods.csv')\n",
    "    image_vectors = []\n",
    "    text_vectors = []\n",
    "    for i in range(0, len(source_goods)):\n",
    "        image_path = 'data/source_goods/'+source_goods['id'][i]+'.jpg'\n",
    "        image_space_vector = get_image_space_vector(image_path, image_net, 'avg')\n",
    "        text_space_vector = get_text_space_vector(source_goods['title'][i], text_net.tokenizer, text_net.model).tolist()\n",
    "        image_vectors.append(image_space_vector)\n",
    "        text_vectors.append(text_space_vector)\n",
    "    source_goods['image_vectors'] = pd.Series(image_vectors)\n",
    "    source_goods['text_vectors'] = pd.Series(text_vectors)"
   ]
  },
  {
   "cell_type": "code",
   "execution_count": 46,
   "metadata": {},
   "outputs": [],
   "source": [
    "def get_good_mean_cosine(good_image_vector, list_best_seller_vectors):\n",
    "    total_cosine = 0\n",
    "    for vector in list_best_seller_vectors:\n",
    "        total_cosine += get_cosine_similarity(good_image_vector, vector)\n",
    "    return total_cosine / len(list_best_seller_vectors)\n",
    "    \n",
    "\n",
    "source_goods['image_mean_cosine'] = 0\n",
    "list_best_seller_vectors = best_seller.image_vectors.values\n",
    "for i in range(0, len(source_goods)):\n",
    "    mean_cosine = get_good_mean_cosine(source_goods['image_vectors'][i], list_best_seller_vectors)\n",
    "    source_goods.loc[i, 'image_mean_cosine'] = mean_cosine\n",
    "    \n",
    "source_goods['text_mean_cosine'] = 0\n",
    "list_best_seller_vectors = best_seller.text_vectors.values\n",
    "for i in range(0, len(source_goods)):\n",
    "    mean_cosine = get_good_mean_cosine(source_goods['text_vectors'][i], list_best_seller_vectors)\n",
    "    source_goods.loc[i, 'text_mean_cosine'] = mean_cosine"
   ]
  },
  {
   "cell_type": "code",
   "execution_count": null,
   "metadata": {},
   "outputs": [],
   "source": []
  }
 ],
 "metadata": {
  "kernelspec": {
   "display_name": "Python 3",
   "language": "python",
   "name": "python3"
  },
  "language_info": {
   "codemirror_mode": {
    "name": "ipython",
    "version": 3
   },
   "file_extension": ".py",
   "mimetype": "text/x-python",
   "name": "python",
   "nbconvert_exporter": "python",
   "pygments_lexer": "ipython3",
   "version": "3.7.3"
  }
 },
 "nbformat": 4,
 "nbformat_minor": 4
}
