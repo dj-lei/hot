{
 "cells": [
  {
   "cell_type": "code",
   "execution_count": 1,
   "metadata": {},
   "outputs": [],
   "source": [
    "import tensorflow as tf\n",
    "import numpy as np\n",
    "import pandas as pd\n",
    "import os\n",
    "\n",
    "num_epochs = 20\n",
    "batch_size = 32\n",
    "learning_rate = 0.001"
   ]
  },
  {
   "cell_type": "code",
   "execution_count": 2,
   "metadata": {},
   "outputs": [],
   "source": [
    "def _decode_and_resize(filename, label):\n",
    "    image_string = tf.io.read_file(filename)            # 读取原始文件\n",
    "    image_decoded = tf.image.decode_jpeg(image_string)  # 解码JPEG图片\n",
    "    image_resized = tf.image.resize(image_decoded, [224, 224]) / 255.0\n",
    "    return image_resized, label\n",
    "\n",
    "data_text = pd.read_csv('train_data.csv')\n",
    "# 构建训练数据集\n",
    "train_filenames = tf.constant([filename for filename in list(data_text.path.values)])\n",
    "train_labels = list(data_text.value.values)\n",
    "\n",
    "train_dataset = tf.data.Dataset.from_tensor_slices((train_filenames, train_labels))\n",
    "train_dataset = train_dataset.map(\n",
    "    map_func=_decode_and_resize, \n",
    "    num_parallel_calls=tf.data.experimental.AUTOTUNE)\n",
    "# 取出前buffer_size个数据放入buffer，并从其中随机采样，采样后的数据用后续数据替换\n",
    "train_dataset = train_dataset.shuffle(buffer_size=500)\n",
    "train_dataset = train_dataset.batch(batch_size)\n",
    "train_dataset = train_dataset.prefetch(tf.data.experimental.AUTOTUNE)"
   ]
  },
  {
   "cell_type": "code",
   "execution_count": 3,
   "metadata": {},
   "outputs": [
    {
     "name": "stdout",
     "output_type": "stream",
     "text": [
      "Model: \"sequential\"\n",
      "_________________________________________________________________\n",
      "Layer (type)                 Output Shape              Param #   \n",
      "=================================================================\n",
      "resnet50 (Functional)        (None, 2048)              23587712  \n",
      "_________________________________________________________________\n",
      "dense (Dense)                (None, 2)                 4098      \n",
      "=================================================================\n",
      "Total params: 23,591,810\n",
      "Trainable params: 4,098\n",
      "Non-trainable params: 23,587,712\n",
      "_________________________________________________________________\n"
     ]
    }
   ],
   "source": [
    "resnet50_fine_tune = tf.keras.models.Sequential()\n",
    "\n",
    "resnet50_fine_tune.add(tf.keras.applications.ResNet50(include_top = False, pooling = 'avg', weights = 'imagenet'))\n",
    "resnet50_fine_tune.add(tf.keras.layers.Dense(2, activation = 'softmax'))\n",
    "resnet50_fine_tune.layers[0].trainable = False\n",
    "# resnet50_fine_tune.compile(loss=\"sparse_categorical_crossentropy\", optimizer=\"sgd\", metrics=['accuracy'])\n",
    "resnet50_fine_tune.compile(\n",
    "    optimizer=tf.keras.optimizers.Adam(learning_rate=learning_rate),\n",
    "    loss=tf.keras.losses.sparse_categorical_crossentropy,\n",
    "    metrics=[tf.keras.metrics.sparse_categorical_accuracy]\n",
    ")\n",
    "resnet50_fine_tune.summary()"
   ]
  },
  {
   "cell_type": "code",
   "execution_count": 4,
   "metadata": {},
   "outputs": [
    {
     "name": "stdout",
     "output_type": "stream",
     "text": [
      "Epoch 1/20\n",
      "154/154 [==============================] - 15s 96ms/step - loss: 0.7022 - sparse_categorical_accuracy: 0.5018\n",
      "Epoch 2/20\n",
      "154/154 [==============================] - 15s 95ms/step - loss: 0.6898 - sparse_categorical_accuracy: 0.5267\n",
      "Epoch 3/20\n",
      "154/154 [==============================] - 15s 95ms/step - loss: 0.6786 - sparse_categorical_accuracy: 0.5657\n",
      "Epoch 4/20\n",
      "154/154 [==============================] - 15s 94ms/step - loss: 0.6700 - sparse_categorical_accuracy: 0.5757\n",
      "Epoch 5/20\n",
      "154/154 [==============================] - 15s 95ms/step - loss: 0.6652 - sparse_categorical_accuracy: 0.6034\n",
      "Epoch 6/20\n",
      "154/154 [==============================] - 15s 95ms/step - loss: 0.6557 - sparse_categorical_accuracy: 0.6205\n",
      "Epoch 7/20\n",
      "154/154 [==============================] - 15s 95ms/step - loss: 0.6501 - sparse_categorical_accuracy: 0.6355\n",
      "Epoch 8/20\n",
      "154/154 [==============================] - 15s 95ms/step - loss: 0.6498 - sparse_categorical_accuracy: 0.6197\n",
      "Epoch 9/20\n",
      "154/154 [==============================] - 15s 95ms/step - loss: 0.6461 - sparse_categorical_accuracy: 0.6315\n",
      "Epoch 10/20\n",
      "154/154 [==============================] - 15s 95ms/step - loss: 0.6387 - sparse_categorical_accuracy: 0.6410\n",
      "Epoch 11/20\n",
      "154/154 [==============================] - 15s 94ms/step - loss: 0.6314 - sparse_categorical_accuracy: 0.6673\n",
      "Epoch 12/20\n",
      "154/154 [==============================] - 15s 95ms/step - loss: 0.6265 - sparse_categorical_accuracy: 0.6752\n",
      "Epoch 13/20\n",
      "154/154 [==============================] - 15s 95ms/step - loss: 0.6199 - sparse_categorical_accuracy: 0.6832\n",
      "Epoch 14/20\n",
      "154/154 [==============================] - 15s 95ms/step - loss: 0.6206 - sparse_categorical_accuracy: 0.6736\n",
      "Epoch 15/20\n",
      "154/154 [==============================] - 15s 95ms/step - loss: 0.6105 - sparse_categorical_accuracy: 0.7023\n",
      "Epoch 16/20\n",
      "154/154 [==============================] - 15s 95ms/step - loss: 0.6120 - sparse_categorical_accuracy: 0.6919\n",
      "Epoch 17/20\n",
      "154/154 [==============================] - 15s 95ms/step - loss: 0.6071 - sparse_categorical_accuracy: 0.7011\n",
      "Epoch 18/20\n",
      "154/154 [==============================] - 15s 95ms/step - loss: 0.6042 - sparse_categorical_accuracy: 0.6998\n",
      "Epoch 19/20\n",
      "154/154 [==============================] - 15s 95ms/step - loss: 0.6033 - sparse_categorical_accuracy: 0.6937\n",
      "Epoch 20/20\n",
      "154/154 [==============================] - 15s 95ms/step - loss: 0.5932 - sparse_categorical_accuracy: 0.7310\n"
     ]
    },
    {
     "data": {
      "text/plain": [
       "<tensorflow.python.keras.callbacks.History at 0x7f05d406f710>"
      ]
     },
     "execution_count": 4,
     "metadata": {},
     "output_type": "execute_result"
    }
   ],
   "source": [
    "resnet50_fine_tune.fit(train_dataset, epochs=num_epochs)"
   ]
  },
  {
   "cell_type": "code",
   "execution_count": null,
   "metadata": {},
   "outputs": [],
   "source": []
  }
 ],
 "metadata": {
  "kernelspec": {
   "display_name": "Python 3",
   "language": "python",
   "name": "python3"
  },
  "language_info": {
   "codemirror_mode": {
    "name": "ipython",
    "version": 3
   },
   "file_extension": ".py",
   "mimetype": "text/x-python",
   "name": "python",
   "nbconvert_exporter": "python",
   "pygments_lexer": "ipython3",
   "version": "3.7.3"
  }
 },
 "nbformat": 4,
 "nbformat_minor": 4
}
